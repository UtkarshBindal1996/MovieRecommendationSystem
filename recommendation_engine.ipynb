{
 "cells": [
  {
   "cell_type": "markdown",
   "id": "c645ed82-8ee0-4592-9096-a92a5ae07b74",
   "metadata": {},
   "source": [
    "# Movie Mate: Find Your Next Cinematic Match"
   ]
  },
  {
   "cell_type": "markdown",
   "id": "83f0ee6d-11da-4c4b-902b-43acdd96a4d4",
   "metadata": {},
   "source": [
    "## Objective: Build and evaluate recommendation engines to predict user movie preferences."
   ]
  },
  {
   "cell_type": "markdown",
   "id": "ad97e609-9491-4826-a680-bbfd97b45899",
   "metadata": {},
   "source": [
    "### Introduction\n",
    "\n",
    "Ditch the endless scrolling! Our data-powered engine finds your next cinematic soulmate based on your unique movie taste.\n",
    "\n",
    "Our objective is to leverage the power of data science to build intelligent recommendation engines that can predict which superhero movies you'll enjoy the most. By analyzing your movie preferences and incorporating the \"Batman vs. Superman\" theme, we aim to create a personalized recommendation experience that caters to your specific tastes.\n",
    "\n",
    "The cornerstone of our recommendation system is the MovieLens dataset. This renowned dataset provides a treasure trove of user ratings for countless movies across various genres. The richness of this data allows us to understand user preferences and identify patterns that can be harnessed for movie recommendations.\n",
    "\n",
    "Get ready to embark on a thrilling journey as we explore the intersection of data science and superhero fandom!"
   ]
  },
  {
   "cell_type": "markdown",
   "id": "9fb8127d-1ca0-4ce9-92b7-bd1bb9ef4bd0",
   "metadata": {},
   "source": [
    "### Data Preparation"
   ]
  },
  {
   "cell_type": "markdown",
   "id": "d2f3a298-63c7-47b9-a0be-d38dc4d3632b",
   "metadata": {},
   "source": [
    "#### Looking at the columns"
   ]
  },
  {
   "cell_type": "code",
   "execution_count": 3,
   "id": "aa8c3f18-feb1-4cf8-b749-bb1bce46dff5",
   "metadata": {
    "scrolled": true
   },
   "outputs": [
    {
     "name": "stdout",
     "output_type": "stream",
     "text": [
      "Columns in each data source:\n",
      "File name: tag\n",
      "   userId  movieId            tag            timestamp\n",
      "0      18     4141    Mark Waters  2009-04-24 18:19:40\n",
      "1      65      208      dark hero  2013-05-10 01:41:18\n",
      "2      65      353      dark hero  2013-05-10 01:41:19\n",
      "3      65      521  noir thriller  2013-05-10 01:39:43\n",
      "4      65      592      dark hero  2013-05-10 01:41:18\n",
      "File name: rating\n",
      "   userId  movieId  rating            timestamp\n",
      "0       1        2     3.5  2005-04-02 23:53:47\n",
      "1       1       29     3.5  2005-04-02 23:31:16\n",
      "2       1       32     3.5  2005-04-02 23:33:39\n",
      "3       1       47     3.5  2005-04-02 23:32:07\n",
      "4       1       50     3.5  2005-04-02 23:29:40\n",
      "File name: movie\n",
      "   movieId                               title  \\\n",
      "0        1                    Toy Story (1995)   \n",
      "1        2                      Jumanji (1995)   \n",
      "2        3             Grumpier Old Men (1995)   \n",
      "3        4            Waiting to Exhale (1995)   \n",
      "4        5  Father of the Bride Part II (1995)   \n",
      "\n",
      "                                        genres  \n",
      "0  Adventure|Animation|Children|Comedy|Fantasy  \n",
      "1                   Adventure|Children|Fantasy  \n",
      "2                               Comedy|Romance  \n",
      "3                         Comedy|Drama|Romance  \n",
      "4                                       Comedy  \n",
      "File name: link\n",
      "   movieId  imdbId   tmdbId\n",
      "0        1  114709    862.0\n",
      "1        2  113497   8844.0\n",
      "2        3  113228  15602.0\n",
      "3        4  114885  31357.0\n",
      "4        5  113041  11862.0\n",
      "File name: genome_tags\n",
      "   tagId           tag\n",
      "0      1           007\n",
      "1      2  007 (series)\n",
      "2      3  18th century\n",
      "3      4         1920s\n",
      "4      5         1930s\n",
      "File name: genome_scores\n",
      "   movieId  tagId  relevance\n",
      "0        1      1    0.02500\n",
      "1        1      2    0.02500\n",
      "2        1      3    0.05775\n",
      "3        1      4    0.09675\n",
      "4        1      5    0.14675\n"
     ]
    }
   ],
   "source": [
    "import pandas as pd\n",
    "\n",
    "folder_path = \"./data\"\n",
    "file_names = [\"tag\", \"rating\", \"movie\", \"link\", \"genome_tags\", \"genome_scores\"]\n",
    "\n",
    "print(\"Columns in each data source:\")\n",
    "\n",
    "for file_name in file_names:\n",
    "    df = pd.read_csv(folder_path + \"/\" + file_name + \".csv\")\n",
    "    print(\"File name: \" + file_name)\n",
    "    print(df.head())"
   ]
  },
  {
   "cell_type": "markdown",
   "id": "6bc3cbb5-a615-4164-9381-4c0617a3614d",
   "metadata": {},
   "source": [
    "I will use the following data for the 3 approaches, \n",
    "\n",
    "1. Collaborative (user based): movie rating data\n",
    "2. Collaborative (movie based): movie rating data\n",
    "3. Content based : genome scores data"
   ]
  },
  {
   "cell_type": "markdown",
   "id": "983b44e6-a672-4b1a-88aa-5405ae761a09",
   "metadata": {},
   "source": [
    "#### Checking for missing or incomplete data"
   ]
  },
  {
   "cell_type": "markdown",
   "id": "baf9da42-0e61-4d97-a185-268a1bf50d70",
   "metadata": {},
   "source": [
    "##### Movie rating data"
   ]
  },
  {
   "cell_type": "code",
   "execution_count": 4,
   "id": "299fff5f-5095-4e78-9c19-465363b1106c",
   "metadata": {},
   "outputs": [
    {
     "name": "stdout",
     "output_type": "stream",
     "text": [
      "   userId  movieId  rating            timestamp\n",
      "0       1        2     3.5  2005-04-02 23:53:47\n",
      "1       1       29     3.5  2005-04-02 23:31:16\n",
      "2       1       32     3.5  2005-04-02 23:33:39\n",
      "3       1       47     3.5  2005-04-02 23:32:07\n",
      "4       1       50     3.5  2005-04-02 23:29:40\n"
     ]
    }
   ],
   "source": [
    "data_path = \"./data/rating.csv\"\n",
    "rating_df = pd.read_csv(data_path)\n",
    "print(rating_df.head())"
   ]
  },
  {
   "cell_type": "markdown",
   "id": "10d3344d-bcce-4045-8cfa-a9e98dab8fc1",
   "metadata": {},
   "source": [
    "Questions i'm concerned with:\n",
    "1. What is the total number of movies?\n",
    "2. What is the total number of users?\n",
    "3. What is the average number of movies rated by a user?\n",
    "4. What is the average number of ratings per movie?"
   ]
  },
  {
   "cell_type": "code",
   "execution_count": 5,
   "id": "a4053371-7154-4e97-979b-55afe5f4ee26",
   "metadata": {},
   "outputs": [
    {
     "name": "stdout",
     "output_type": "stream",
     "text": [
      "userId         138493\n",
      "movieId         26744\n",
      "rating             10\n",
      "timestamp    15351121\n",
      "dtype: int64\n"
     ]
    }
   ],
   "source": [
    "print(rating_df.nunique())"
   ]
  },
  {
   "cell_type": "code",
   "execution_count": 14,
   "id": "a69bdc3b-1e57-412b-ba29-ec5f16555b6c",
   "metadata": {},
   "outputs": [
    {
     "name": "stdout",
     "output_type": "stream",
     "text": [
      "count    138493.000000\n",
      "mean        144.413530\n",
      "std         230.267257\n",
      "min          20.000000\n",
      "25%          35.000000\n",
      "50%          68.000000\n",
      "75%         155.000000\n",
      "max        9254.000000\n",
      "Name: movieId, dtype: float64\n"
     ]
    }
   ],
   "source": [
    "user_movie_count = rating_df.groupby('userId')['movieId'].nunique()\n",
    "print(user_movie_count.describe())"
   ]
  },
  {
   "cell_type": "code",
   "execution_count": 15,
   "id": "8ad5f22b-c89c-4f23-9991-a40b61328c77",
   "metadata": {},
   "outputs": [
    {
     "name": "stdout",
     "output_type": "stream",
     "text": [
      "count    26744.000000\n",
      "mean       747.841123\n",
      "std       3085.818268\n",
      "min          1.000000\n",
      "25%          3.000000\n",
      "50%         18.000000\n",
      "75%        205.000000\n",
      "max      67310.000000\n",
      "Name: userId, dtype: float64\n"
     ]
    }
   ],
   "source": [
    "movie_user_count = rating_df.groupby('movieId')['userId'].nunique()\n",
    "print(movie_user_count.describe())"
   ]
  },
  {
   "cell_type": "markdown",
   "id": "05b2fd91-c7a1-4f41-9c62-3727821f3afe",
   "metadata": {},
   "source": [
    "### Collaborative Filtering\n",
    "\n",
    "##### User-based Collaborative Filtering (CF):\n",
    "\n",
    "<b>Concept:</b> User-based CF identifies users with similar taste in movies (neighbors) and recommends movies those neighbors enjoyed but the target user hasn't seen yet.\n",
    "<b>Similarity Calculation:</b> We can calculate pairwise similarity between users using adjusted cosine similarity. This measures how closely aligned their rating vectors are, considering the direction of their ratings\n",
    "\n",
    "- We are using adjusted cosine since it's possible some users tend to rate enverything higher and some everything lower.\n",
    "- There exists a likely scenario that there isn't much overlap between the movies 2 people have rated. This is one of the major downsides of this kind of approach.\n",
    "\n",
    "  Although, a case can be made that users not having rated the same movies does carry some significance from case to case.\n",
    "\n",
    "  For example, if 2 users only have a Netflix subscription, it is likely that they haven't rated movies that are Hotstar exclusives. Moreoever, it would not make sense to receommend them movies exclusive to Hotstar.\n",
    "\n",
    "  Another example of the relevance of not rating the same movies would be if the languages of the movies is something they don't speak. English movie watchers would not have rated Japanese movies which should mean they have similar taste in a way.\n",
    "\n",
    "  Ultimately, it would really be based on <b>how the data was collected and and from which users</b>.\n",
    "\n",
    "##### Movie-based Collaborative Filtering (CF):\n",
    "\n",
    "<b>Concept:</b> Movie-based CF focuses on finding similar movies rather than similar users. It recommends movies similar to those a user has enjoyed but hasn't seen yet.\n",
    "<b>Similarity Calculation:</b> Similar to user-based CF, we can calculate pairwise similarity between movies using cosine similarity based on how users have rated them."
   ]
  },
  {
   "cell_type": "markdown",
   "id": "acf31814-8cf2-41f7-bbdf-3102a5da2e57",
   "metadata": {},
   "source": []
  },
  {
   "cell_type": "markdown",
   "id": "c2ea2878-974a-4b3b-a4b7-bb29de66f293",
   "metadata": {},
   "source": [
    "### Content-Based Filtering (CBF)\n",
    "Leveraging Movie Genomes: Explain the concept of movie genomes and their potential for CBF.\n",
    "Preprocessing movie genomes:\n",
    "Extract relevant features from movie genomes (e.g., genres, actors, directors).\n",
    "Convert textual features (genres) to numerical representations using techniques like one-hot encoding.\n",
    "Building a CBF model:\n",
    "Choose a machine learning algorithm (e.g., K-Nearest Neighbors, Naive Bayes) suitable for CBF.\n",
    "Train the model on movie features and corresponding ratings.\n",
    "Define a function to recommend movies similar to a specific movie based on the trained model."
   ]
  },
  {
   "cell_type": "markdown",
   "id": "90d71d40-37ae-4846-93ea-fea3ad241abd",
   "metadata": {},
   "source": []
  },
  {
   "cell_type": "markdown",
   "id": "54b72630-fd79-4412-97e1-fcaf98e0634c",
   "metadata": {},
   "source": [
    "### Evaluation\n",
    "Since you're dealing with recommending movies, here are some commonly used metrics that assess different aspects of your recommender systems:\n",
    "\n",
    "Mean Reciprocal Rank (MRR): This metric considers the rank of the first relevant recommendation in the list. A higher MRR indicates that relevant recommendations appear closer to the top of the list. Why it's useful: MRR prioritizes the importance of getting the most relevant item at the top of the recommendation list.\n",
    "\n",
    "Precision@k: This metric measures the proportion of the top k recommendations that are actually relevant to the user. A higher precision indicates a higher accuracy in recommending relevant movies. Why it's useful: Precision@k allows you to assess the overall quality of the top k recommendations. You might choose a different value of k depending on how many recommendations you typically show to users.\n",
    "\n",
    "Normalized Discounted Cumulative Gain (NDCG): This metric considers both the relevance and the ranking of recommended items. A higher NDCG indicates that the most relevant items are ranked higher in the list."
   ]
  },
  {
   "cell_type": "markdown",
   "id": "aa51fc21-2979-4c09-ae06-c9637aca5d96",
   "metadata": {},
   "source": []
  },
  {
   "cell_type": "markdown",
   "id": "3c5096d9-3779-49d9-8969-1ba4d13b181b",
   "metadata": {},
   "source": [
    "### The \"Batman vs. Superman\" Showdown\n",
    "User choice integration: Create a mechanism (e.g., input field) for users to choose their favorite superhero (\"Batman\" or \"Superman\").\n",
    "Personalized recommendations:\n",
    "Based on user choice and their movie rating history:\n",
    "Utilize all three recommendation engines (user-based CF, movie-based CF, CBF) to generate movie recommendations.\n",
    "Optionally, prioritize recommendations within the chosen superhero universe."
   ]
  },
  {
   "cell_type": "code",
   "execution_count": null,
   "id": "25f83563-fbda-4f28-88c6-97bc143c76a7",
   "metadata": {},
   "outputs": [],
   "source": []
  },
  {
   "cell_type": "markdown",
   "id": "dc0efb01-8174-46df-8da2-cb3962213bdc",
   "metadata": {},
   "source": [
    "### Conclusion\n",
    "Summarize findings: Discuss the performance of each recommendation engine based on the evaluation metrics.\n",
    "Insights and limitations: Highlight insights gained about user preferences and limitations of the system.\n",
    "Future directions: Suggest potential improvements or extensions to the project (e.g., hybrid recommendation systems, incorporating additional datasets)."
   ]
  },
  {
   "cell_type": "markdown",
   "id": "365085e6-1b4e-4ec5-8620-07a8d9f0d24d",
   "metadata": {},
   "source": []
  }
 ],
 "metadata": {
  "kernelspec": {
   "display_name": "Python 3 (ipykernel)",
   "language": "python",
   "name": "python3"
  },
  "language_info": {
   "codemirror_mode": {
    "name": "ipython",
    "version": 3
   },
   "file_extension": ".py",
   "mimetype": "text/x-python",
   "name": "python",
   "nbconvert_exporter": "python",
   "pygments_lexer": "ipython3",
   "version": "3.11.9"
  }
 },
 "nbformat": 4,
 "nbformat_minor": 5
}
