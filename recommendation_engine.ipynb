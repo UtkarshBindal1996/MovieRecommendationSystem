{
 "cells": [
  {
   "cell_type": "markdown",
   "id": "c645ed82-8ee0-4592-9096-a92a5ae07b74",
   "metadata": {},
   "source": [
    "# Movie Mate: Find Your Next Cinematic Match"
   ]
  },
  {
   "cell_type": "markdown",
   "id": "83f0ee6d-11da-4c4b-902b-43acdd96a4d4",
   "metadata": {},
   "source": [
    "## Objective: Build and evaluate recommendation engines to predict user movie preferences."
   ]
  },
  {
   "cell_type": "markdown",
   "id": "ad97e609-9491-4826-a680-bbfd97b45899",
   "metadata": {},
   "source": [
    "### Introduction\n",
    "\n",
    "Ditch the endless scrolling! Our data-powered engine finds your next cinematic soulmate based on your unique movie taste.\n",
    "\n",
    "Our objective is to leverage the power of data science to build intelligent recommendation engines that can predict which superhero movies you'll enjoy the most. By analyzing your movie preferences and incorporating the \"Batman vs. Superman\" theme, we aim to create a personalized recommendation experience that caters to your specific tastes.\n",
    "\n",
    "The cornerstone of our recommendation system is the MovieLens dataset. This renowned dataset provides a treasure trove of user ratings for countless movies across various genres. The richness of this data allows us to understand user preferences and identify patterns that can be harnessed for movie recommendations.\n",
    "\n",
    "Get ready to embark on a thrilling journey as we explore the intersection of data science and superhero fandom!"
   ]
  },
  {
   "cell_type": "markdown",
   "id": "9fb8127d-1ca0-4ce9-92b7-bd1bb9ef4bd0",
   "metadata": {},
   "source": [
    "### Data Preparation"
   ]
  },
  {
   "cell_type": "markdown",
   "id": "d2f3a298-63c7-47b9-a0be-d38dc4d3632b",
   "metadata": {},
   "source": [
    "#### Looking at the columns"
   ]
  },
  {
   "cell_type": "code",
   "execution_count": 3,
   "id": "aa8c3f18-feb1-4cf8-b749-bb1bce46dff5",
   "metadata": {
    "scrolled": true
   },
   "outputs": [
    {
     "name": "stdout",
     "output_type": "stream",
     "text": [
      "Columns in each data source:\n",
      "File name: tag\n",
      "   userId  movieId            tag            timestamp\n",
      "0      18     4141    Mark Waters  2009-04-24 18:19:40\n",
      "1      65      208      dark hero  2013-05-10 01:41:18\n",
      "2      65      353      dark hero  2013-05-10 01:41:19\n",
      "3      65      521  noir thriller  2013-05-10 01:39:43\n",
      "4      65      592      dark hero  2013-05-10 01:41:18\n",
      "File name: rating\n",
      "   userId  movieId  rating            timestamp\n",
      "0       1        2     3.5  2005-04-02 23:53:47\n",
      "1       1       29     3.5  2005-04-02 23:31:16\n",
      "2       1       32     3.5  2005-04-02 23:33:39\n",
      "3       1       47     3.5  2005-04-02 23:32:07\n",
      "4       1       50     3.5  2005-04-02 23:29:40\n",
      "File name: movie\n",
      "   movieId                               title  \\\n",
      "0        1                    Toy Story (1995)   \n",
      "1        2                      Jumanji (1995)   \n",
      "2        3             Grumpier Old Men (1995)   \n",
      "3        4            Waiting to Exhale (1995)   \n",
      "4        5  Father of the Bride Part II (1995)   \n",
      "\n",
      "                                        genres  \n",
      "0  Adventure|Animation|Children|Comedy|Fantasy  \n",
      "1                   Adventure|Children|Fantasy  \n",
      "2                               Comedy|Romance  \n",
      "3                         Comedy|Drama|Romance  \n",
      "4                                       Comedy  \n",
      "File name: link\n",
      "   movieId  imdbId   tmdbId\n",
      "0        1  114709    862.0\n",
      "1        2  113497   8844.0\n",
      "2        3  113228  15602.0\n",
      "3        4  114885  31357.0\n",
      "4        5  113041  11862.0\n",
      "File name: genome_tags\n",
      "   tagId           tag\n",
      "0      1           007\n",
      "1      2  007 (series)\n",
      "2      3  18th century\n",
      "3      4         1920s\n",
      "4      5         1930s\n",
      "File name: genome_scores\n",
      "   movieId  tagId  relevance\n",
      "0        1      1    0.02500\n",
      "1        1      2    0.02500\n",
      "2        1      3    0.05775\n",
      "3        1      4    0.09675\n",
      "4        1      5    0.14675\n"
     ]
    }
   ],
   "source": [
    "import pandas as pd\n",
    "\n",
    "folder_path = \"./data\"\n",
    "file_names = [\"tag\", \"rating\", \"movie\", \"link\", \"genome_tags\", \"genome_scores\"]\n",
    "\n",
    "print(\"Columns in each data source:\")\n",
    "\n",
    "for file_name in file_names:\n",
    "    df = pd.read_csv(folder_path + \"/\" + file_name + \".csv\")\n",
    "    print(\"File name: \" + file_name)\n",
    "    print(df.head())"
   ]
  },
  {
   "cell_type": "markdown",
   "id": "6bc3cbb5-a615-4164-9381-4c0617a3614d",
   "metadata": {},
   "source": [
    "I will use the following data for the 3 approaches, \n",
    "\n",
    "1. Collaborative (user based): movie rating data\n",
    "2. Collaborative (movie based): movie rating data\n",
    "3. Content based : genome scores data"
   ]
  },
  {
   "cell_type": "markdown",
   "id": "983b44e6-a672-4b1a-88aa-5405ae761a09",
   "metadata": {},
   "source": [
    "#### Checking for missing or incomplete data"
   ]
  },
  {
   "cell_type": "markdown",
   "id": "baf9da42-0e61-4d97-a185-268a1bf50d70",
   "metadata": {},
   "source": [
    "##### Movie rating data"
   ]
  },
  {
   "cell_type": "code",
   "execution_count": 29,
   "id": "299fff5f-5095-4e78-9c19-465363b1106c",
   "metadata": {},
   "outputs": [
    {
     "name": "stdout",
     "output_type": "stream",
     "text": [
      "   userId  movieId  rating            timestamp\n",
      "0       1        2     3.5  2005-04-02 23:53:47\n",
      "1       1       29     3.5  2005-04-02 23:31:16\n",
      "2       1       32     3.5  2005-04-02 23:33:39\n",
      "3       1       47     3.5  2005-04-02 23:32:07\n",
      "4       1       50     3.5  2005-04-02 23:29:40\n"
     ]
    }
   ],
   "source": [
    "import pandas as pd\n",
    "\n",
    "data_path = \"./data/rating.csv\"\n",
    "rating_df = pd.read_csv(data_path)\n",
    "print(rating_df.head())"
   ]
  },
  {
   "cell_type": "markdown",
   "id": "10d3344d-bcce-4045-8cfa-a9e98dab8fc1",
   "metadata": {},
   "source": [
    "Questions i'm concerned with:\n",
    "1. What is the total number of movies?\n",
    "2. What is the total number of users?\n",
    "3. What is the average number of movies rated by a user?\n",
    "4. What is the average number of ratings per movie?"
   ]
  },
  {
   "cell_type": "code",
   "execution_count": 3,
   "id": "a4053371-7154-4e97-979b-55afe5f4ee26",
   "metadata": {},
   "outputs": [
    {
     "name": "stdout",
     "output_type": "stream",
     "text": [
      "userId         138493\n",
      "movieId         26744\n",
      "rating             10\n",
      "timestamp    15351121\n",
      "dtype: int64\n"
     ]
    }
   ],
   "source": [
    "print(rating_df.nunique())"
   ]
  },
  {
   "cell_type": "code",
   "execution_count": 14,
   "id": "a69bdc3b-1e57-412b-ba29-ec5f16555b6c",
   "metadata": {},
   "outputs": [
    {
     "name": "stdout",
     "output_type": "stream",
     "text": [
      "count    138493.000000\n",
      "mean        144.413530\n",
      "std         230.267257\n",
      "min          20.000000\n",
      "25%          35.000000\n",
      "50%          68.000000\n",
      "75%         155.000000\n",
      "max        9254.000000\n",
      "Name: movieId, dtype: float64\n"
     ]
    }
   ],
   "source": [
    "user_movie_count = rating_df.groupby('userId')['movieId'].nunique()\n",
    "print(user_movie_count.describe())"
   ]
  },
  {
   "cell_type": "code",
   "execution_count": 15,
   "id": "8ad5f22b-c89c-4f23-9991-a40b61328c77",
   "metadata": {},
   "outputs": [
    {
     "name": "stdout",
     "output_type": "stream",
     "text": [
      "count    26744.000000\n",
      "mean       747.841123\n",
      "std       3085.818268\n",
      "min          1.000000\n",
      "25%          3.000000\n",
      "50%         18.000000\n",
      "75%        205.000000\n",
      "max      67310.000000\n",
      "Name: userId, dtype: float64\n"
     ]
    }
   ],
   "source": [
    "movie_user_count = rating_df.groupby('movieId')['userId'].nunique()\n",
    "print(movie_user_count.describe())"
   ]
  },
  {
   "cell_type": "markdown",
   "id": "05b2fd91-c7a1-4f41-9c62-3727821f3afe",
   "metadata": {},
   "source": [
    "### Collaborative Filtering\n",
    "\n",
    "##### User-based Collaborative Filtering (CF):\n",
    "\n",
    "<b>Concept:</b> User-based CF identifies users with similar taste in movies (neighbors) and recommends movies those neighbors enjoyed but the target user hasn't seen yet.\n",
    "<b>Similarity Calculation:</b> We can calculate pairwise similarity between users using adjusted cosine similarity. This measures how closely aligned their rating vectors are, considering the direction of their ratings\n",
    "\n",
    "<b>Considerations:</b>\n",
    "- We are using adjusted cosine since it's possible some users tend to rate enverything higher and some everything lower.\n",
    "- There exists a likely scenario that there isn't much overlap between the movies 2 people have rated. This is one of the major downsides of this kind of approach.\n",
    "\n",
    "  Although, a case can be made that users not having rated the same movies does carry some significance from case to case.\n",
    "\n",
    "  For example, if 2 users only have a Netflix subscription, it is likely that they haven't rated movies that are Hotstar exclusives. Moreoever, it would not make sense to receommend them movies exclusive to Hotstar.\n",
    "\n",
    "  Another example of the relevance of not rating the same movies would be if the languages of the movies is something they don't speak. English movie watchers would not have rated Japanese movies which should mean they have similar taste in a way.\n",
    "\n",
    "  Ultimately, it would really be based on <b>how the data was collected and and from which users</b>.\n",
    "\n",
    "##### Movie-based Collaborative Filtering (CF):\n",
    "\n",
    "<b>Concept:</b> Movie-based CF focuses on finding similar movies rather than similar users. It recommends movies similar to those a user has enjoyed but hasn't seen yet.\n",
    "<b>Similarity Calculation:</b> Similar to user-based CF, we can calculate pairwise similarity between movies using cosine similarity based on how users have rated them.\n",
    "\n",
    "<b>Considerations:</b>\n",
    "- This method of filtering will not face the same issue that user-based one did. Since, we don't require different users rating the same movie.\n",
    "- The idea of this is that using the ratings given by multiple users, we will be able to find movies which are in some way siimilar to each other. Then, we are going to check for which movies were liked by the user and recommend the movies most similar to that one.\n",
    "\n",
    "##### New features we can consider:\n",
    "\n",
    "- <b>Time based importance:</b> We can add a term to add weight to more recent reviews since the older recommendations can be considered a little stale.\n",
    "- <b>Adding weight to recommendations which are of unpopular movies:</b> It's possible that the movies which are extreamely popular keep coming up on top since a lot of users are rating them highly. This could result in the recommendations not being fresh and only recommending very popular stuff. Ideally a call should be taken on this after a discussion with Product."
   ]
  },
  {
   "cell_type": "markdown",
   "id": "0ba38f81-d456-4331-abbb-ba229dddad54",
   "metadata": {},
   "source": [
    "#### User-based Collaborative Filtering (CF):\n"
   ]
  },
  {
   "cell_type": "markdown",
   "id": "c6b50c71-3a9b-4b71-8b25-fc6a5d724235",
   "metadata": {},
   "source": [
    "##### Using Kmeans clustering"
   ]
  },
  {
   "cell_type": "code",
   "execution_count": 41,
   "id": "1106ba11-b292-41ac-b7ec-6fff54770a11",
   "metadata": {},
   "outputs": [
    {
     "data": {
      "text/html": [
       "<div>\n",
       "<style scoped>\n",
       "    .dataframe tbody tr th:only-of-type {\n",
       "        vertical-align: middle;\n",
       "    }\n",
       "\n",
       "    .dataframe tbody tr th {\n",
       "        vertical-align: top;\n",
       "    }\n",
       "\n",
       "    .dataframe thead th {\n",
       "        text-align: right;\n",
       "    }\n",
       "</style>\n",
       "<table border=\"1\" class=\"dataframe\">\n",
       "  <thead>\n",
       "    <tr style=\"text-align: right;\">\n",
       "      <th></th>\n",
       "      <th>userId</th>\n",
       "      <th>movieId</th>\n",
       "      <th>rating</th>\n",
       "      <th>timestamp</th>\n",
       "    </tr>\n",
       "  </thead>\n",
       "  <tbody>\n",
       "    <tr>\n",
       "      <th>0</th>\n",
       "      <td>1</td>\n",
       "      <td>2</td>\n",
       "      <td>3.5</td>\n",
       "      <td>2005-04-02 23:53:47</td>\n",
       "    </tr>\n",
       "    <tr>\n",
       "      <th>1</th>\n",
       "      <td>1</td>\n",
       "      <td>29</td>\n",
       "      <td>3.5</td>\n",
       "      <td>2005-04-02 23:31:16</td>\n",
       "    </tr>\n",
       "    <tr>\n",
       "      <th>2</th>\n",
       "      <td>1</td>\n",
       "      <td>32</td>\n",
       "      <td>3.5</td>\n",
       "      <td>2005-04-02 23:33:39</td>\n",
       "    </tr>\n",
       "    <tr>\n",
       "      <th>3</th>\n",
       "      <td>1</td>\n",
       "      <td>47</td>\n",
       "      <td>3.5</td>\n",
       "      <td>2005-04-02 23:32:07</td>\n",
       "    </tr>\n",
       "    <tr>\n",
       "      <th>4</th>\n",
       "      <td>1</td>\n",
       "      <td>50</td>\n",
       "      <td>3.5</td>\n",
       "      <td>2005-04-02 23:29:40</td>\n",
       "    </tr>\n",
       "  </tbody>\n",
       "</table>\n",
       "</div>"
      ],
      "text/plain": [
       "   userId  movieId  rating            timestamp\n",
       "0       1        2     3.5  2005-04-02 23:53:47\n",
       "1       1       29     3.5  2005-04-02 23:31:16\n",
       "2       1       32     3.5  2005-04-02 23:33:39\n",
       "3       1       47     3.5  2005-04-02 23:32:07\n",
       "4       1       50     3.5  2005-04-02 23:29:40"
      ]
     },
     "execution_count": 41,
     "metadata": {},
     "output_type": "execute_result"
    }
   ],
   "source": [
    "rating_df.head()"
   ]
  },
  {
   "cell_type": "code",
   "execution_count": 31,
   "id": "2cffcdbc-888d-4027-8268-5114acefb4db",
   "metadata": {},
   "outputs": [],
   "source": [
    "# Converting the rating_df into a dictionary reporesentation\n",
    "user_rating_dictionary = {}\n",
    "for _, row in rating_df.iterrows():\n",
    "    if row['userId'] not in user_rating_dictionary:\n",
    "        user_rating_dictionary[row['userId']] = {}\n",
    "    user_rating_dictionary[row['userId']][row['movieId']] = row['rating']"
   ]
  },
  {
   "cell_type": "code",
   "execution_count": 34,
   "id": "5853ef8a-ead0-46e7-810d-62ecae581e39",
   "metadata": {},
   "outputs": [],
   "source": [
    "import pickle\n",
    "\n",
    "with open(\"./data/user_rating_dictionary.pkl\", \"wb\") as f:\n",
    "    pickle.dump(user_rating_dictionary, f)"
   ]
  },
  {
   "cell_type": "code",
   "execution_count": 2,
   "id": "6fa4197e-0e1c-452d-bb5d-c920f8eb29a6",
   "metadata": {},
   "outputs": [],
   "source": [
    "import pickle\n",
    "with open(\"./data/user_rating_dictionary.pkl\", \"rb\") as f:\n",
    "    user_rating_dictionary = pickle.load(f)"
   ]
  },
  {
   "cell_type": "code",
   "execution_count": 3,
   "id": "5dd36918-90e6-42d9-a065-79eebc299920",
   "metadata": {},
   "outputs": [],
   "source": [
    "# function to compute similarity between 2 users\n",
    "def adjusted_cosine_similarity(user1_ratings, user2_ratings, min_ratings=7):\n",
    "    \"\"\"\n",
    "    Calculates the adjusted cosine similarity between two user rating dictionaries,\n",
    "    considering only movies rated by both users and enforcing a minimum rating threshold.\n",
    "    \n",
    "    Args:\n",
    "      user1_ratings: A dictionary representing user 1's ratings (movie ID as key, rating as value).\n",
    "      user2_ratings: A dictionary representing user 2's ratings (movie ID as key, rating as value).\n",
    "      min_ratings: Minimum number of movies required to be rated by both users for similarity calculation (default 1).\n",
    "    \n",
    "    Returns:\n",
    "      The adjusted cosine similarity between the two users, or 0 if the minimum rating threshold is not met or no movies are rated by both users.\n",
    "    \"\"\"\n",
    "    \n",
    "    intersection = set(user1_ratings.keys()) & set(user2_ratings.keys())  # Get common movies\n",
    "    if len(intersection) < min_ratings:\n",
    "        return 0  # Similarity is 0 if below minimum rating threshold\n",
    "    \n",
    "    if not intersection:\n",
    "        return 0  # No common movies, similarity is 0\n",
    "    \n",
    "    user1_avg = np.mean(list(user1_ratings[movie] for movie in intersection))  # Average rating for user 1 (using list comprehension)\n",
    "    user2_avg = np.mean(list(user2_ratings[movie] for movie in intersection))  # Average rating for user 2 (using list comprehension)\n",
    "    \n",
    "    numerator = sum((user1_ratings[movie] - user1_avg) * (user2_ratings[movie] - user2_avg) for movie in intersection)\n",
    "    denominator = np.sqrt(sum((user1_ratings[movie] - user1_avg)**2 for movie in intersection) * \n",
    "                         sum((user2_ratings[movie] - user2_avg)**2 for movie in intersection))\n",
    "    \n",
    "    if denominator == 0:\n",
    "        return 0  # Avoid division by zero\n",
    "    \n",
    "    return numerator / denominator"
   ]
  },
  {
   "cell_type": "code",
   "execution_count": 5,
   "id": "142317eb-0a51-47a3-b8bd-ab2e992d24cc",
   "metadata": {},
   "outputs": [
    {
     "data": {
      "image/png": "[encoded data removed]",
      "text/plain": [
       "<Figure size 800x600 with 1 Axes>"
      ]
     },
     "metadata": {},
     "output_type": "display_data"
    }
   ],
   "source": [
    "# Kmeas clustering using the cosine similarity\n",
    "import numpy as np\n",
    "from sklearn.cluster import KMeans\n",
    "from sklearn.metrics.pairwise import cosine_similarity\n",
    "import matplotlib.pyplot as plt\n",
    "\n",
    "def kmeans_cosine_elbow(data, max_clusters=20):\n",
    "    # Calculate cosine similarity matrix using your custom function\n",
    "    similarity_matrix = np.zeros((len(data), len(data)))  # Initialize similarity matrix\n",
    "    for i in range(len(data)):\n",
    "        for j in range(i, len(data)):  # Fill upper triangular matrix for efficiency (avoid duplicates)\n",
    "            similarity_matrix[i, j] = adjusted_cosine_similarity(data[i], data[j])\n",
    "            similarity_matrix[j, i] = similarity_matrix[i, j]  # Fill lower triangular matrix for symmetry\n",
    "    \n",
    "    # List to store WCSS (Within-Cluster Sum of Squares) for different k values\n",
    "    wcss = []\n",
    "    for k in range(1, max_clusters + 1):\n",
    "        kmeans = KMeans(n_clusters=k, random_state=42)  # Set random state for reproducibility\n",
    "        kmeans.fit(similarity_matrix)\n",
    "        wcss.append(kmeans.inertia_)  # Inertia represents WCSS\n",
    "    \n",
    "    # Elbow plot\n",
    "    plt.figure(figsize=(8, 6))\n",
    "    plt.plot(range(1, max_clusters + 1), wcss, marker='o', linestyle='-')\n",
    "    plt.xlabel(\"Number of clusters\")\n",
    "    plt.ylabel(\"WCSS\")\n",
    "    plt.title(\"Elbow Plot for KMeans with Cosine Similarity\")\n",
    "    plt.grid(True)\n",
    "    plt.show()\n",
    "    \n",
    "    # You can observe the elbow point in the plot to determine the optimal k\n",
    "    \n",
    "# Example usage (replace with your actual data)\n",
    "data = list(user_rating_dictionary.values())[:500]\n",
    "kmeans_cosine_elbow(data)\n"
   ]
  },
  {
   "cell_type": "code",
   "execution_count": 15,
   "id": "fc19a948-e44b-4e01-bbc1-11416cc48bf8",
   "metadata": {},
   "outputs": [],
   "source": [
    "import numpy as np\n",
    "from sklearn.cluster import KMeans\n",
    "from sklearn.metrics.pairwise import cosine_similarity\n",
    "import matplotlib.pyplot as plt\n",
    "\n",
    "def kmeans_clustering(data, optimal_k):\n",
    "    \"\"\"\n",
    "    Performs KMeans clustering with the specified k and visualizes the clusters.\n",
    "    \n",
    "    Args:\n",
    "      data: A numpy array representing the user rating dictionaries.\n",
    "      optimal_k: The chosen optimal number of clusters.\n",
    "    \"\"\"\n",
    "    # Calculate cosine similarity matrix using your custom function (assuming it's defined)\n",
    "    similarity_matrix = np.zeros((len(data), len(data)))\n",
    "    for i in range(len(data)):\n",
    "        for j in range(i, len(data)):\n",
    "            similarity_matrix[i, j] = adjusted_cosine_similarity(data[i], data[j])\n",
    "            similarity_matrix[j, i] = similarity_matrix[i, j]\n",
    "    \n",
    "    # Perform KMeans clustering with the chosen k\n",
    "    kmeans = KMeans(n_clusters=optimal_k, random_state=42)\n",
    "    kmeans.fit(similarity_matrix)\n",
    "    \n",
    "    # Get cluster labels for each data point\n",
    "    return kmeans.labels_, similarity_matrix\n",
    "\n",
    "# Create empty lists to store keys and values\n",
    "top_keys = []\n",
    "top_values = []\n",
    "\n",
    "# Loop through the dictionary and add key-value pairs\n",
    "for key, value in user_rating_dictionary.items():\n",
    "  if len(top_keys) < 500:\n",
    "    top_keys.append(key)\n",
    "    top_values.append(value)\n",
    "\n",
    "# Example usage (replace with your actual data and optimal k\n",
    "optimal_k = 4  # Replace with your actual optimal k value\n",
    "\n",
    "cluster_labels, similarity_matrix = kmeans_clustering(top_values, optimal_k)"
   ]
  },
  {
   "cell_type": "code",
   "execution_count": 16,
   "id": "d6c06360-4e89-42f4-9318-123c71653943",
   "metadata": {},
   "outputs": [
    {
     "data": {
      "text/html": [
       "<div>\n",
       "<style scoped>\n",
       "    .dataframe tbody tr th:only-of-type {\n",
       "        vertical-align: middle;\n",
       "    }\n",
       "\n",
       "    .dataframe tbody tr th {\n",
       "        vertical-align: top;\n",
       "    }\n",
       "\n",
       "    .dataframe thead th {\n",
       "        text-align: right;\n",
       "    }\n",
       "</style>\n",
       "<table border=\"1\" class=\"dataframe\">\n",
       "  <thead>\n",
       "    <tr style=\"text-align: right;\">\n",
       "      <th></th>\n",
       "      <th>userId</th>\n",
       "      <th>movie_rating_dict</th>\n",
       "      <th>cluster_id</th>\n",
       "    </tr>\n",
       "  </thead>\n",
       "  <tbody>\n",
       "    <tr>\n",
       "      <th>0</th>\n",
       "      <td>1</td>\n",
       "      <td>{2: 3.5, 29: 3.5, 32: 3.5, 47: 3.5, 50: 3.5, 1...</td>\n",
       "      <td>3</td>\n",
       "    </tr>\n",
       "    <tr>\n",
       "      <th>1</th>\n",
       "      <td>2</td>\n",
       "      <td>{3: 4.0, 62: 5.0, 70: 5.0, 110: 4.0, 242: 3.0,...</td>\n",
       "      <td>1</td>\n",
       "    </tr>\n",
       "    <tr>\n",
       "      <th>2</th>\n",
       "      <td>3</td>\n",
       "      <td>{1: 4.0, 24: 3.0, 32: 4.0, 50: 5.0, 160: 3.0, ...</td>\n",
       "      <td>2</td>\n",
       "    </tr>\n",
       "    <tr>\n",
       "      <th>3</th>\n",
       "      <td>4</td>\n",
       "      <td>{6: 3.0, 10: 4.0, 19: 3.0, 32: 1.0, 165: 3.0, ...</td>\n",
       "      <td>3</td>\n",
       "    </tr>\n",
       "    <tr>\n",
       "      <th>4</th>\n",
       "      <td>5</td>\n",
       "      <td>{2: 3.0, 11: 5.0, 17: 3.0, 60: 3.0, 62: 5.0, 1...</td>\n",
       "      <td>3</td>\n",
       "    </tr>\n",
       "  </tbody>\n",
       "</table>\n",
       "</div>"
      ],
      "text/plain": [
       "   userId                                  movie_rating_dict  cluster_id\n",
       "0       1  {2: 3.5, 29: 3.5, 32: 3.5, 47: 3.5, 50: 3.5, 1...           3\n",
       "1       2  {3: 4.0, 62: 5.0, 70: 5.0, 110: 4.0, 242: 3.0,...           1\n",
       "2       3  {1: 4.0, 24: 3.0, 32: 4.0, 50: 5.0, 160: 3.0, ...           2\n",
       "3       4  {6: 3.0, 10: 4.0, 19: 3.0, 32: 1.0, 165: 3.0, ...           3\n",
       "4       5  {2: 3.0, 11: 5.0, 17: 3.0, 60: 3.0, 62: 5.0, 1...           3"
      ]
     },
     "execution_count": 16,
     "metadata": {},
     "output_type": "execute_result"
    }
   ],
   "source": [
    "import pandas as pd\n",
    "\n",
    "# merge together, top_keys, top_values, and cluster_labels\n",
    "data_dict = {\"userId\": top_keys, \"movie_rating_dict\": top_values, \"cluster_id\": cluster_labels}\n",
    "# Create a DataFrame from the dictionary\n",
    "clustered_df = pd.DataFrame(data_dict)\n",
    "\n",
    "clustered_df.head()"
   ]
  },
  {
   "cell_type": "code",
   "execution_count": 21,
   "id": "415b33e2-6e76-4f0a-8e7b-4da77fbe7770",
   "metadata": {},
   "outputs": [],
   "source": [
    "new_user_ratings = {2:2, 29:4, 242:1, 6:4}\n",
    "# predicted_cluster = kmeans_model.predict(new_user_ratings)\n",
    "\n",
    "# Find most similar user in training data (assuming similarity scores are stored somewhere)\n",
    "most_similar_user_index = np.argmax(similarity_matrix, axis=0)  # Find index of max similarity\n",
    "# Predict cluster label based on most similar user's cluster\n",
    "predicted_cluster = clustered_df.loc[most_similar_user_index, 'cluster_id'].iloc[0]\n",
    "recommendations = {}\n",
    "\n",
    "# Need to recommend high rated movies from the same cluster.\n",
    "# Filter out all entries from a particular cluster\n",
    "single_cluster_df = clustered_df[clustered_df['cluster_id'] == predicted_cluster]\n",
    "\n",
    "# Create a priority list of the (on average) highest rated movies in that cluster\n",
    "# Need to create a dictionary from the rating values in that cluster.\n",
    "cluster_size = len(single_cluster_df)\n",
    "result_dict = {}\n",
    "for index, row in clustered_df.iterrows():\n",
    "    similarity_score = adjusted_cosine_similarity(row['movie_rating_dict'], new_user_ratings)\n",
    "    for movieId, rating in row['movie_rating_dict'].items():\n",
    "        if movieId not in result_dict:\n",
    "            result_dict[movieId] = {\n",
    "                \"sum_similarity_rating\": 0,\n",
    "                \"sum_similarity\": 0\n",
    "            }\n",
    "        result_dict[movieId][\"sum_similarity_rating\"] += similarity_score*rating\n",
    "        result_dict[movieId][\"sum_similarity\"] += similarity_score\n",
    "\n",
    "        if result_dict[movieId][\"sum_similarity\"] == 0:\n",
    "            net_score = 0\n",
    "        else:\n",
    "            net_score = result_dict[movieId][\"sum_similarity_rating\"]/result_dict[movieId][\"sum_similarity\"]\n",
    "        recommendations[movieId] = net_score"
   ]
  },
  {
   "cell_type": "code",
   "execution_count": 22,
   "id": "d44832a7-1a1d-4f18-9944-3252cb51de56",
   "metadata": {},
   "outputs": [
    {
     "name": "stdout",
     "output_type": "stream",
     "text": [
      "[2, 29, 32, 47, 50]\n"
     ]
    }
   ],
   "source": [
    "# Sort the dictionary by values (scores) in descending order\n",
    "sorted_movies = dict(sorted(recommendations.items(), key=lambda item: item[1], reverse=True))\n",
    "\n",
    "# Get the top 5 movie names (keys)\n",
    "top_5_movies = list(sorted_movies.keys())[:5]\n",
    "\n",
    "print(top_5_movies)"
   ]
  },
  {
   "cell_type": "code",
   "execution_count": null,
   "id": "85bd36de-571f-48ec-b519-672561b48ee1",
   "metadata": {},
   "outputs": [],
   "source": []
  },
  {
   "cell_type": "markdown",
   "id": "969e08d0-43f1-449c-a451-83ea3c9bce5e",
   "metadata": {},
   "source": [
    "##### Using K nearest neighbours"
   ]
  },
  {
   "cell_type": "markdown",
   "id": "c2ea2878-974a-4b3b-a4b7-bb29de66f293",
   "metadata": {},
   "source": [
    "### Content-Based Filtering (CBF)\n",
    "Leveraging Movie Genomes: Explain the concept of movie genomes and their potential for CBF.\n",
    "Preprocessing movie genomes:\n",
    "Extract relevant features from movie genomes (e.g., genres, actors, directors).\n",
    "Convert textual features (genres) to numerical representations using techniques like one-hot encoding.\n",
    "Building a CBF model:\n",
    "Choose a machine learning algorithm (e.g., K-Nearest Neighbors, Naive Bayes) suitable for CBF.\n",
    "Train the model on movie features and corresponding ratings.\n",
    "Define a function to recommend movies similar to a specific movie based on the trained model."
   ]
  },
  {
   "cell_type": "markdown",
   "id": "90d71d40-37ae-4846-93ea-fea3ad241abd",
   "metadata": {},
   "source": []
  },
  {
   "cell_type": "markdown",
   "id": "54b72630-fd79-4412-97e1-fcaf98e0634c",
   "metadata": {},
   "source": [
    "### Evaluation\n",
    "Since you're dealing with recommending movies, here are some commonly used metrics that assess different aspects of your recommender systems:\n",
    "\n",
    "Mean Reciprocal Rank (MRR): This metric considers the rank of the first relevant recommendation in the list. A higher MRR indicates that relevant recommendations appear closer to the top of the list. Why it's useful: MRR prioritizes the importance of getting the most relevant item at the top of the recommendation list.\n",
    "\n",
    "Precision@k: This metric measures the proportion of the top k recommendations that are actually relevant to the user. A higher precision indicates a higher accuracy in recommending relevant movies. Why it's useful: Precision@k allows you to assess the overall quality of the top k recommendations. You might choose a different value of k depending on how many recommendations you typically show to users.\n",
    "\n",
    "Normalized Discounted Cumulative Gain (NDCG): This metric considers both the relevance and the ranking of recommended items. A higher NDCG indicates that the most relevant items are ranked higher in the list."
   ]
  },
  {
   "cell_type": "markdown",
   "id": "aa51fc21-2979-4c09-ae06-c9637aca5d96",
   "metadata": {},
   "source": []
  },
  {
   "cell_type": "markdown",
   "id": "3c5096d9-3779-49d9-8969-1ba4d13b181b",
   "metadata": {},
   "source": [
    "### get recommendation\n",
    "User choice integration: Create a mechanism (e.g., input field) for users to choose their favorite superhero (\"Batman\" or \"Superman\").\n",
    "Personalized recommendations:\n",
    "Based on user choice and their movie rating history:\n",
    "Utilize all three recommendation engines (user-based CF, movie-based CF, CBF) to generate movie recommendations.\n",
    "Optionally, prioritize recommendations within the chosen superhero universe."
   ]
  },
  {
   "cell_type": "code",
   "execution_count": null,
   "id": "25f83563-fbda-4f28-88c6-97bc143c76a7",
   "metadata": {},
   "outputs": [],
   "source": []
  },
  {
   "cell_type": "markdown",
   "id": "dc0efb01-8174-46df-8da2-cb3962213bdc",
   "metadata": {},
   "source": [
    "### Conclusion\n",
    "Summarize findings: Discuss the performance of each recommendation engine based on the evaluation metrics.\n",
    "Insights and limitations: Highlight insights gained about user preferences and limitations of the system.\n",
    "Future directions: Suggest potential improvements or extensions to the project (e.g., hybrid recommendation systems, incorporating additional datasets)."
   ]
  },
  {
   "cell_type": "markdown",
   "id": "365085e6-1b4e-4ec5-8620-07a8d9f0d24d",
   "metadata": {},
   "source": []
  }
 ],
 "metadata": {
  "kernelspec": {
   "display_name": "Python 3 (ipykernel)",
   "language": "python",
   "name": "python3"
  },
  "language_info": {
   "codemirror_mode": {
    "name": "ipython",
    "version": 3
   },
   "file_extension": ".py",
   "mimetype": "text/x-python",
   "name": "python",
   "nbconvert_exporter": "python",
   "pygments_lexer": "ipython3",
   "version": "3.11.9"
  }
 },
 "nbformat": 4,
 "nbformat_minor": 5
}
